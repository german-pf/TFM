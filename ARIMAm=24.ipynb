{
 "cells": [
  {
   "cell_type": "code",
   "execution_count": 1,
   "id": "5bd1db87-8d0b-4b99-a187-f2f086b9372b",
   "metadata": {},
   "outputs": [
    {
     "ename": "ParserError",
     "evalue": "Error tokenizing data. C error: out of memory",
     "output_type": "error",
     "traceback": [
      "\u001b[1;31m---------------------------------------------------------------------------\u001b[0m",
      "\u001b[1;31mParserError\u001b[0m                               Traceback (most recent call last)",
      "Cell \u001b[1;32mIn[1], line 12\u001b[0m\n\u001b[0;32m     10\u001b[0m \u001b[38;5;28;01mfrom\u001b[39;00m \u001b[38;5;21;01mpmdarima\u001b[39;00m \u001b[38;5;28;01mimport\u001b[39;00m auto_arima\n\u001b[0;32m     11\u001b[0m \u001b[38;5;66;03m# Cargamos el csv\u001b[39;00m\n\u001b[1;32m---> 12\u001b[0m train \u001b[38;5;241m=\u001b[39m pd\u001b[38;5;241m.\u001b[39mread_csv(\u001b[38;5;124m'\u001b[39m\u001b[38;5;124mbtcusd_1-min_data.csv\u001b[39m\u001b[38;5;124m'\u001b[39m)\n\u001b[0;32m     14\u001b[0m \u001b[38;5;28mprint\u001b[39m(train\u001b[38;5;241m.\u001b[39mshape)\n\u001b[0;32m     16\u001b[0m \u001b[38;5;66;03m# Mostramos 10 registros al azar\u001b[39;00m\n",
      "File \u001b[1;32m~\\anaconda3\\Lib\\site-packages\\pandas\\io\\parsers\\readers.py:1026\u001b[0m, in \u001b[0;36mread_csv\u001b[1;34m(filepath_or_buffer, sep, delimiter, header, names, index_col, usecols, dtype, engine, converters, true_values, false_values, skipinitialspace, skiprows, skipfooter, nrows, na_values, keep_default_na, na_filter, verbose, skip_blank_lines, parse_dates, infer_datetime_format, keep_date_col, date_parser, date_format, dayfirst, cache_dates, iterator, chunksize, compression, thousands, decimal, lineterminator, quotechar, quoting, doublequote, escapechar, comment, encoding, encoding_errors, dialect, on_bad_lines, delim_whitespace, low_memory, memory_map, float_precision, storage_options, dtype_backend)\u001b[0m\n\u001b[0;32m   1013\u001b[0m kwds_defaults \u001b[38;5;241m=\u001b[39m _refine_defaults_read(\n\u001b[0;32m   1014\u001b[0m     dialect,\n\u001b[0;32m   1015\u001b[0m     delimiter,\n\u001b[1;32m   (...)\u001b[0m\n\u001b[0;32m   1022\u001b[0m     dtype_backend\u001b[38;5;241m=\u001b[39mdtype_backend,\n\u001b[0;32m   1023\u001b[0m )\n\u001b[0;32m   1024\u001b[0m kwds\u001b[38;5;241m.\u001b[39mupdate(kwds_defaults)\n\u001b[1;32m-> 1026\u001b[0m \u001b[38;5;28;01mreturn\u001b[39;00m _read(filepath_or_buffer, kwds)\n",
      "File \u001b[1;32m~\\anaconda3\\Lib\\site-packages\\pandas\\io\\parsers\\readers.py:626\u001b[0m, in \u001b[0;36m_read\u001b[1;34m(filepath_or_buffer, kwds)\u001b[0m\n\u001b[0;32m    623\u001b[0m     \u001b[38;5;28;01mreturn\u001b[39;00m parser\n\u001b[0;32m    625\u001b[0m \u001b[38;5;28;01mwith\u001b[39;00m parser:\n\u001b[1;32m--> 626\u001b[0m     \u001b[38;5;28;01mreturn\u001b[39;00m parser\u001b[38;5;241m.\u001b[39mread(nrows)\n",
      "File \u001b[1;32m~\\anaconda3\\Lib\\site-packages\\pandas\\io\\parsers\\readers.py:1923\u001b[0m, in \u001b[0;36mTextFileReader.read\u001b[1;34m(self, nrows)\u001b[0m\n\u001b[0;32m   1916\u001b[0m nrows \u001b[38;5;241m=\u001b[39m validate_integer(\u001b[38;5;124m\"\u001b[39m\u001b[38;5;124mnrows\u001b[39m\u001b[38;5;124m\"\u001b[39m, nrows)\n\u001b[0;32m   1917\u001b[0m \u001b[38;5;28;01mtry\u001b[39;00m:\n\u001b[0;32m   1918\u001b[0m     \u001b[38;5;66;03m# error: \"ParserBase\" has no attribute \"read\"\u001b[39;00m\n\u001b[0;32m   1919\u001b[0m     (\n\u001b[0;32m   1920\u001b[0m         index,\n\u001b[0;32m   1921\u001b[0m         columns,\n\u001b[0;32m   1922\u001b[0m         col_dict,\n\u001b[1;32m-> 1923\u001b[0m     ) \u001b[38;5;241m=\u001b[39m \u001b[38;5;28mself\u001b[39m\u001b[38;5;241m.\u001b[39m_engine\u001b[38;5;241m.\u001b[39mread(  \u001b[38;5;66;03m# type: ignore[attr-defined]\u001b[39;00m\n\u001b[0;32m   1924\u001b[0m         nrows\n\u001b[0;32m   1925\u001b[0m     )\n\u001b[0;32m   1926\u001b[0m \u001b[38;5;28;01mexcept\u001b[39;00m \u001b[38;5;167;01mException\u001b[39;00m:\n\u001b[0;32m   1927\u001b[0m     \u001b[38;5;28mself\u001b[39m\u001b[38;5;241m.\u001b[39mclose()\n",
      "File \u001b[1;32m~\\anaconda3\\Lib\\site-packages\\pandas\\io\\parsers\\c_parser_wrapper.py:234\u001b[0m, in \u001b[0;36mCParserWrapper.read\u001b[1;34m(self, nrows)\u001b[0m\n\u001b[0;32m    232\u001b[0m \u001b[38;5;28;01mtry\u001b[39;00m:\n\u001b[0;32m    233\u001b[0m     \u001b[38;5;28;01mif\u001b[39;00m \u001b[38;5;28mself\u001b[39m\u001b[38;5;241m.\u001b[39mlow_memory:\n\u001b[1;32m--> 234\u001b[0m         chunks \u001b[38;5;241m=\u001b[39m \u001b[38;5;28mself\u001b[39m\u001b[38;5;241m.\u001b[39m_reader\u001b[38;5;241m.\u001b[39mread_low_memory(nrows)\n\u001b[0;32m    235\u001b[0m         \u001b[38;5;66;03m# destructive to chunks\u001b[39;00m\n\u001b[0;32m    236\u001b[0m         data \u001b[38;5;241m=\u001b[39m _concatenate_chunks(chunks)\n",
      "File \u001b[1;32mparsers.pyx:838\u001b[0m, in \u001b[0;36mpandas._libs.parsers.TextReader.read_low_memory\u001b[1;34m()\u001b[0m\n",
      "File \u001b[1;32mparsers.pyx:905\u001b[0m, in \u001b[0;36mpandas._libs.parsers.TextReader._read_rows\u001b[1;34m()\u001b[0m\n",
      "File \u001b[1;32mparsers.pyx:874\u001b[0m, in \u001b[0;36mpandas._libs.parsers.TextReader._tokenize_rows\u001b[1;34m()\u001b[0m\n",
      "File \u001b[1;32mparsers.pyx:891\u001b[0m, in \u001b[0;36mpandas._libs.parsers.TextReader._check_tokenize_status\u001b[1;34m()\u001b[0m\n",
      "File \u001b[1;32mparsers.pyx:2061\u001b[0m, in \u001b[0;36mpandas._libs.parsers.raise_parser_error\u001b[1;34m()\u001b[0m\n",
      "\u001b[1;31mParserError\u001b[0m: Error tokenizing data. C error: out of memory"
     ]
    }
   ],
   "source": [
    "import pandas as pd\n",
    "import numpy as np\n",
    "import sklearn.preprocessing as prep\n",
    "import matplotlib.pyplot as plt\n",
    "from sklearn.metrics import mean_absolute_error\n",
    "from statsmodels.tsa.arima.model import ARIMA\n",
    "from statsmodels.tsa.statespace.sarimax import SARIMAX\n",
    "from statsmodels.tsa.stattools import acf, pacf\n",
    "from statsmodels.graphics.tsaplots import plot_acf, plot_pacf\n",
    "from pmdarima import auto_arima\n",
    "# Cargamos el csv\n",
    "train = pd.read_csv('btcusd_1-min_data.csv')\n",
    "\n",
    "print(train.shape)\n",
    "\n",
    "# Mostramos 10 registros al azar\n",
    "train.sample(10)\n",
    "\n",
    "#miro donde hay nulls si los hay\n",
    "train.isna().sum()\n",
    "\n",
    "filas_con_nulos = train[train.isnull().any(axis=1)]\n",
    "print(filas_con_nulos)\n",
    "\n",
    "train = train.dropna()\n",
    "print(train)\n",
    "\n",
    "train['Timestamp'] = pd.to_datetime(train['Timestamp'], unit='s') \n",
    "train.set_index('Timestamp', inplace=True)\n",
    "print(train)\n",
    "\n",
    "# Calcular la media por hora y rellenar posibles nulos\n",
    "data_hour = train['Close'].resample('h').mean().ffill()\n",
    "\n",
    "# Visualizamos la serie completa\n",
    "data_hour.plot()\n",
    "plt.show()"
   ]
  },
  {
   "cell_type": "code",
   "execution_count": null,
   "id": "789357dc-3727-4262-a5af-0df5e585b918",
   "metadata": {},
   "outputs": [],
   "source": [
    "# 1 año a considerar en el conjunto de test\n",
    "n_steps = 24 * 364\n",
    "\n",
    "# Dividimos la serie en train y test\n",
    "train_size = len(data_hour) - n_steps\n",
    "train, test = data_hour[:train_size], data_hour[train_size:]"
   ]
  },
  {
   "cell_type": "code",
   "execution_count": null,
   "id": "e7d78545-0ce2-4c41-9a5f-8f1fa83be4bb",
   "metadata": {},
   "outputs": [],
   "source": [
    "# Aplicar auto_arima para encontrar los mejores parámetros\n",
    "m=24 #(patrón diario)\n",
    "modelo_auto = auto_arima(data_hour,seasonal=True, stepwise=True, trace=True, error_action='ignore', m=24, suppress_warnings=True)\n",
    "\n",
    "# Mostrar resumen del modelo seleccionado\n",
    "print(modelo_auto.summary())\n",
    "\n",
    "# Obtener los parámetros óptimos\n",
    "p, d, q = modelo_auto.order"
   ]
  },
  {
   "cell_type": "code",
   "execution_count": null,
   "id": "a11af76e-de6b-4e2e-b6f7-f2ad7b791041",
   "metadata": {},
   "outputs": [],
   "source": [
    "# Ajustamos el modelo ARIMA\n",
    "model = ARIMA(train, order=(p,d,q)) #poner p d y q en caso de ejecutar auto_arima\n",
    "fitted_model = model.fit()\n",
    "\n",
    "# Forecast\n",
    "forecast = fitted_model.forecast(steps=n_steps)\n",
    "forecast_index = test.index"
   ]
  },
  {
   "cell_type": "code",
   "execution_count": null,
   "id": "2c3c077a-9293-44e0-8795-72d33f260ece",
   "metadata": {},
   "outputs": [],
   "source": [
    "# Visualizamos los resultados\n",
    "plt.figure(figsize=(10, 6))\n",
    "plt.plot(train, label='Serie original')\n",
    "plt.plot(test.index, test, label='Conjunto de test', color='green')\n",
    "plt.plot(forecast_index, forecast, label='Forecast', color='red')\n",
    "plt.legend()\n",
    "plt.title('Forecast del modelo ARIMA')\n",
    "plt.show()\n",
    "\n",
    "# Evaluación del modelo\n",
    "mae = mean_absolute_error(test, forecast)\n",
    "print(f'Mean Absolute Error: {mae}')"
   ]
  },
  {
   "cell_type": "code",
   "execution_count": null,
   "id": "6bf9fa0b-045f-4ac7-aed4-ee19ddac1174",
   "metadata": {},
   "outputs": [],
   "source": [
    "model = SARIMAX(train, order=(p, d, q), seasonal_order=(p, d, q, m))\n",
    "fitted_model = model.fit()\n",
    "\n",
    "# Forecast\n",
    "forecast = fitted_model.forecast(steps=n_steps)\n",
    "forecast_index = test.index"
   ]
  },
  {
   "cell_type": "code",
   "execution_count": null,
   "id": "36efee14-5a2f-4b65-873f-e41cdee27073",
   "metadata": {},
   "outputs": [],
   "source": [
    "# Visualizamos los resultados\n",
    "plt.figure(figsize=(10, 6))\n",
    "plt.plot(train, label='Serie original')\n",
    "plt.plot(test.index, test, label='Conjunto de test', color='green')\n",
    "plt.plot(forecast_index, forecast, label='Forecast', color='red')\n",
    "plt.legend()\n",
    "plt.title('Forecast del modelo SARIMAX')\n",
    "plt.show()\n",
    "\n",
    "# Evaluación del modelo\n",
    "mae = mean_absolute_error(test, forecast)\n",
    "print(f'Mean Absolute Error: {mae}')"
   ]
  }
 ],
 "metadata": {
  "kernelspec": {
   "display_name": "Python 3 (ipykernel)",
   "language": "python",
   "name": "python3"
  },
  "language_info": {
   "codemirror_mode": {
    "name": "ipython",
    "version": 3
   },
   "file_extension": ".py",
   "mimetype": "text/x-python",
   "name": "python",
   "nbconvert_exporter": "python",
   "pygments_lexer": "ipython3",
   "version": "3.12.3"
  }
 },
 "nbformat": 4,
 "nbformat_minor": 5
}
