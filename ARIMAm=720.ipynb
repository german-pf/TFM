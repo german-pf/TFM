{
 "cells": [
  {
   "cell_type": "code",
   "execution_count": 1,
   "id": "5bd1db87-8d0b-4b99-a187-f2f086b9372b",
   "metadata": {},
   "outputs": [
    {
     "name": "stdout",
     "output_type": "stream",
     "text": [
      "(6750281, 6)\n",
      "         Timestamp     Open     High      Low    Close    Volume\n",
      "6750280        NaN  57854.0  57864.0  57835.0  57835.0  1.353466\n",
      "            Timestamp       Open       High        Low      Close    Volume\n",
      "0        1.325412e+09       4.58       4.58       4.58       4.58  0.000000\n",
      "1        1.325412e+09       4.58       4.58       4.58       4.58  0.000000\n",
      "2        1.325412e+09       4.58       4.58       4.58       4.58  0.000000\n",
      "3        1.325412e+09       4.58       4.58       4.58       4.58  0.000000\n",
      "4        1.325412e+09       4.58       4.58       4.58       4.58  0.000000\n",
      "...               ...        ...        ...        ...        ...       ...\n",
      "6750275  1.737936e+09  102518.00  102559.00  102506.00  102558.00  0.771165\n",
      "6750276  1.737936e+09  102628.00  102669.00  102608.00  102611.00  0.086742\n",
      "6750277  1.737936e+09  102659.00  102712.00  102657.00  102712.00  0.488757\n",
      "6750278  1.737936e+09  102631.00  102631.00  102573.00  102573.00  0.126719\n",
      "6750279  1.737936e+09  102573.00  102604.00  102507.00  102514.00  0.474495\n",
      "\n",
      "[6750280 rows x 6 columns]\n",
      "                          Open       High        Low      Close    Volume\n",
      "Timestamp                                                                \n",
      "2012-01-01 10:01:00       4.58       4.58       4.58       4.58  0.000000\n",
      "2012-01-01 10:02:00       4.58       4.58       4.58       4.58  0.000000\n",
      "2012-01-01 10:03:00       4.58       4.58       4.58       4.58  0.000000\n",
      "2012-01-01 10:04:00       4.58       4.58       4.58       4.58  0.000000\n",
      "2012-01-01 10:05:00       4.58       4.58       4.58       4.58  0.000000\n",
      "...                        ...        ...        ...        ...       ...\n",
      "2025-01-26 23:56:00  102518.00  102559.00  102506.00  102558.00  0.771165\n",
      "2025-01-26 23:57:00  102628.00  102669.00  102608.00  102611.00  0.086742\n",
      "2025-01-26 23:58:00  102659.00  102712.00  102657.00  102712.00  0.488757\n",
      "2025-01-26 23:59:00  102631.00  102631.00  102573.00  102573.00  0.126719\n",
      "2025-01-27 00:00:00  102573.00  102604.00  102507.00  102514.00  0.474495\n",
      "\n",
      "[6750280 rows x 5 columns]\n"
     ]
    },
    {
     "data": {
      "image/png": "[encoded data removed]",
      "text/plain": [
       "<Figure size 640x480 with 1 Axes>"
      ]
     },
     "metadata": {},
     "output_type": "display_data"
    }
   ],
   "source": [
    "import pandas as pd\n",
    "import numpy as np\n",
    "import sklearn.preprocessing as prep\n",
    "import matplotlib.pyplot as plt\n",
    "from sklearn.metrics import mean_absolute_error\n",
    "from statsmodels.tsa.arima.model import ARIMA\n",
    "from statsmodels.tsa.statespace.sarimax import SARIMAX\n",
    "from statsmodels.tsa.stattools import acf, pacf\n",
    "from statsmodels.graphics.tsaplots import plot_acf, plot_pacf\n",
    "from pmdarima import auto_arima\n",
    "# Cargamos el csv\n",
    "train = pd.read_csv('btcusd_1-min_data.csv')\n",
    "\n",
    "print(train.shape)\n",
    "\n",
    "# Mostramos 10 registros al azar\n",
    "train.sample(10)\n",
    "\n",
    "#miro donde hay nulls si los hay\n",
    "train.isna().sum()\n",
    "\n",
    "filas_con_nulos = train[train.isnull().any(axis=1)]\n",
    "print(filas_con_nulos)\n",
    "\n",
    "train = train.dropna()\n",
    "print(train)\n",
    "\n",
    "train['Timestamp'] = pd.to_datetime(train['Timestamp'], unit='s') \n",
    "train.set_index('Timestamp', inplace=True)\n",
    "print(train)\n",
    "\n",
    "# Calcular la media por hora y rellenar posibles nulos\n",
    "data_hour = train['Close'].resample('h').mean().ffill()\n",
    "\n",
    "# Visualizamos la serie completa\n",
    "data_hour.plot()\n",
    "plt.show()"
   ]
  },
  {
   "cell_type": "code",
   "execution_count": 2,
   "id": "789357dc-3727-4262-a5af-0df5e585b918",
   "metadata": {},
   "outputs": [],
   "source": [
    "# 1 año a considerar en el conjunto de test\n",
    "n_steps = 24 * 364\n",
    "\n",
    "# Dividimos la serie en train y test\n",
    "train_size = len(data_hour) - n_steps\n",
    "train, test = data_hour[:train_size], data_hour[train_size:]"
   ]
  },
  {
   "cell_type": "code",
   "execution_count": null,
   "id": "e7d78545-0ce2-4c41-9a5f-8f1fa83be4bb",
   "metadata": {},
   "outputs": [
    {
     "name": "stdout",
     "output_type": "stream",
     "text": [
      "Performing stepwise search to minimize aic\n"
     ]
    }
   ],
   "source": [
    "# Aplicar auto_arima para encontrar los mejores parámetros\n",
    "m=720 #(patrón mensual)\n",
    "modelo_auto = auto_arima(data_hour,seasonal=True, stepwise=True, trace=True, error_action='ignore', m=720, suppress_warnings=True)\n",
    "\n",
    "# Mostrar resumen del modelo seleccionado\n",
    "print(modelo_auto.summary())\n",
    "\n",
    "# Obtener los parámetros óptimos\n",
    "p, d, q = modelo_auto.order"
   ]
  },
  {
   "cell_type": "code",
   "execution_count": null,
   "id": "a11af76e-de6b-4e2e-b6f7-f2ad7b791041",
   "metadata": {},
   "outputs": [],
   "source": [
    "# Ajustamos el modelo ARIMA\n",
    "model = ARIMA(train, order=(p,d,q)) #poner p d y q en caso de ejecutar auto_arima\n",
    "fitted_model = model.fit()\n",
    "\n",
    "# Forecast\n",
    "forecast = fitted_model.forecast(steps=n_steps)\n",
    "forecast_index = test.index"
   ]
  },
  {
   "cell_type": "code",
   "execution_count": null,
   "id": "2c3c077a-9293-44e0-8795-72d33f260ece",
   "metadata": {},
   "outputs": [],
   "source": [
    "# Visualizamos los resultados\n",
    "plt.figure(figsize=(10, 6))\n",
    "plt.plot(train, label='Serie original')\n",
    "plt.plot(test.index, test, label='Conjunto de test', color='green')\n",
    "plt.plot(forecast_index, forecast, label='Forecast', color='red')\n",
    "plt.legend()\n",
    "plt.title('Forecast del modelo ARIMA')\n",
    "plt.show()\n",
    "\n",
    "# Evaluación del modelo\n",
    "mae = mean_absolute_error(test, forecast)\n",
    "print(f'Mean Absolute Error: {mae}')"
   ]
  },
  {
   "cell_type": "code",
   "execution_count": null,
   "id": "6bf9fa0b-045f-4ac7-aed4-ee19ddac1174",
   "metadata": {},
   "outputs": [],
   "source": [
    "model = SARIMAX(train, order=(p, d, q), seasonal_order=(p, d, q, m))\n",
    "fitted_model = model.fit()\n",
    "\n",
    "# Forecast\n",
    "forecast = fitted_model.forecast(steps=n_steps)\n",
    "forecast_index = test.index"
   ]
  },
  {
   "cell_type": "code",
   "execution_count": null,
   "id": "36efee14-5a2f-4b65-873f-e41cdee27073",
   "metadata": {},
   "outputs": [],
   "source": [
    "# Visualizamos los resultados\n",
    "plt.figure(figsize=(10, 6))\n",
    "plt.plot(train, label='Serie original')\n",
    "plt.plot(test.index, test, label='Conjunto de test', color='green')\n",
    "plt.plot(forecast_index, forecast, label='Forecast', color='red')\n",
    "plt.legend()\n",
    "plt.title('Forecast del modelo SARIMAX')\n",
    "plt.show()\n",
    "\n",
    "# Evaluación del modelo\n",
    "mae = mean_absolute_error(test, forecast)\n",
    "print(f'Mean Absolute Error: {mae}')"
   ]
  }
 ],
 "metadata": {
  "kernelspec": {
   "display_name": "Python 3 (ipykernel)",
   "language": "python",
   "name": "python3"
  },
  "language_info": {
   "codemirror_mode": {
    "name": "ipython",
    "version": 3
   },
   "file_extension": ".py",
   "mimetype": "text/x-python",
   "name": "python",
   "nbconvert_exporter": "python",
   "pygments_lexer": "ipython3",
   "version": "3.12.3"
  }
 },
 "nbformat": 4,
 "nbformat_minor": 5
}
